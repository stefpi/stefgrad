{
 "cells": [
  {
   "cell_type": "code",
   "execution_count": null,
   "id": "139ee222",
   "metadata": {},
   "outputs": [],
   "source": [
    "import pyarrow.parquet as pa\n",
    "import numpy as np\n",
    "import pandas as pd\n",
    "from PIL import Image\n",
    "import io\n",
    "\n",
    "# download train and test parquet files from https://huggingface.co/datasets/ylecun/mnist\n",
    "table = pa.read_table('mnist/train.parquet')\n",
    "table_test = pa.read_table('mnist/test.parquet')\n",
    "\n",
    "df = table.to_pandas()\n",
    "df_test = table_test.to_pandas()\n",
    "\n",
    "from stefgrad.nn.layers import Linear\n",
    "from stefgrad.nn.activation import softmax, sigmoid, tanh, relu\n",
    "from stefgrad.tensor import Tensor\n",
    "\n",
    "class MLP:\n",
    "    def __init__(self, nin, nouts: list, hidden_fn, last_fn):\n",
    "        size = [nin] + nouts\n",
    "        self.layers = [Linear(size[i], size[i+1], hidden_fn) for i in range(len(nouts) - 1)]\n",
    "        self.layers += [Linear(size[len(nouts) - 1], size[len(nouts)], last_fn)]\n",
    "\n",
    "    def __call__(self, x):\n",
    "        for layer in self.layers:\n",
    "            x = layer(x)\n",
    "        return x\n",
    "    \n",
    "    def parameters(self):\n",
    "        return [p for layer in self.layers for p in layer.parameters()]\n",
    "\n",
    "    def parameter_shapes(self):\n",
    "        return [p.data.shape for layer in self.layers for p in layer.parameters()]\n",
    "\n",
    "model = MLP(784, [512, 256, 10], relu, None)"
   ]
  },
  {
   "cell_type": "code",
   "execution_count": 2,
   "id": "32aabb9c",
   "metadata": {},
   "outputs": [],
   "source": [
    "X = [\n",
    "    list(Image.open(io.BytesIO(df.iloc[row]['image']['bytes'])).getdata()) for row in range(len(df))\n",
    "]\n",
    "Y = [\n",
    "    [0 if x != df.iloc[row]['label'] else 1 for x in range(10)] for row in range(len(df))\n",
    "]\n",
    "X_test = [\n",
    "    Tensor(list(Image.open(io.BytesIO(df_test.iloc[row]['image']['bytes'])).getdata())) for row in range(len(df_test))\n",
    "]\n",
    "Y_test = [\n",
    "    Tensor([0 if x != df_test.iloc[row]['label'] else 1 for x in range(10)]) for row in range(len(df_test))\n",
    "]"
   ]
  },
  {
   "cell_type": "code",
   "execution_count": null,
   "id": "1812947a",
   "metadata": {},
   "outputs": [],
   "source": [
    "from stefgrad.tensor import Tensor\n",
    "\n",
    "model = MLP(784, [512, 256, 10], sigmoid, softmax)\n",
    "\n",
    "X = [\n",
    "    Tensor(list(Image.open(io.BytesIO(row['image']['bytes'])).getdata())) for row in df.iloc\n",
    "]\n",
    "Y = [\n",
    "    Tensor([0 if x != row['label'] else 1 for x in range(10)]) for row in df.iloc\n",
    "]\n",
    "\n",
    "## non batched\n",
    "for k in range(len(X)):\n",
    "    for p in model.parameters():\n",
    "        p.grad = np.zeros_like(p.data)\n",
    "\n",
    "    ypred_outputs = model(X[k])\n",
    "\n",
    "    loss = (-(Y[k] * (ypred_outputs + Tensor(1e-12)).log())).sum()\n",
    "\n",
    "    loss.backward()\n",
    "\n",
    "    learning_rate = 0.05\n",
    "    for p in model.parameters():\n",
    "        p.data = p.data - learning_rate * p.grad\n",
    "\n",
    "    if k % 100 == 0:\n",
    "        print(f\"Iteration {k}: loss = {loss.data:.10f}\")\n",
    "\n",
    "print(f\"Final loss: {loss.data:.6f}\")"
   ]
  },
  {
   "cell_type": "code",
   "execution_count": 3,
   "id": "23bd3f28",
   "metadata": {},
   "outputs": [
    {
     "name": "stdout",
     "output_type": "stream",
     "text": [
      "Final loss: 0.5778870965008347\n"
     ]
    }
   ],
   "source": [
    "## batched training\n",
    "batch_size = 100\n",
    "epochs = 3\n",
    "\n",
    "for epoch in range(3):\n",
    "    for start in range(0, len(X), batch_size):\n",
    "        x_batch = Tensor(X[start:start + batch_size])\n",
    "        y_batch = Tensor(Y[start:start + batch_size])\n",
    "\n",
    "        for p in model.parameters():\n",
    "            p.grad = np.zeros_like(p.data)\n",
    "\n",
    "        # normalize the pixel values\n",
    "        x = x_batch / 255.0\n",
    "        y = y_batch / 255.0\n",
    "\n",
    "        z = model(x) # run model prediction\n",
    "\n",
    "        logexpsum = z.logsumexp(axis=1) # softmax logsumexp trick\n",
    "        loss = -(y * logexpsum).sum(axis=1) # cross-entropy loss\n",
    "\n",
    "        loss.backward() # propagate gradient\n",
    "\n",
    "        learning_rate = 0.05\n",
    "        for p in model.parameters():\n",
    "            p.data = p.data - learning_rate * p.grad # update parameters\n",
    "\n",
    "print(f\"Final loss: {loss.sum().data}\")"
   ]
  },
  {
   "cell_type": "code",
   "execution_count": 4,
   "id": "834cc9e8",
   "metadata": {},
   "outputs": [
    {
     "name": "stdout",
     "output_type": "stream",
     "text": [
      "\n",
      "testing accurracy\n",
      "Accuracy: 0.8922\n"
     ]
    }
   ],
   "source": [
    "print(\"\\ntesting accurracy\")\n",
    "\n",
    "accuracy = 0\n",
    "for i in range(len(X_test)):\n",
    "    z = model(X_test[i])\n",
    "    pred = z.logsumexp()\n",
    "    true_num = int(np.nanargmax(Y_test[i].data))\n",
    "    pred_num = int(np.nanargmax(pred.data))\n",
    "    if true_num == pred_num: accuracy += 1\n",
    "    # print(f\"Sample {i}: target={true_num}, prediction={pred_num}\")\n",
    "\n",
    "print(f\"Accuracy: {accuracy / len(X_test)}\")"
   ]
  },
  {
   "cell_type": "code",
   "execution_count": 7,
   "id": "ea3e2860",
   "metadata": {},
   "outputs": [
    {
     "name": "stdout",
     "output_type": "stream",
     "text": [
      "\n",
      "testing accurracy\n",
      "Accuracy: 0.0787\n"
     ]
    }
   ],
   "source": [
    "model_not_trained = MLP(784, [512, 256, 10], relu, softmax)\n",
    "\n",
    "print(\"\\ntesting accurracy\")\n",
    "accuracy = 0\n",
    "for i in range(len(X_test)):\n",
    "    z = model_not_trained(X_test[i])\n",
    "    pred = z.logsumexp()\n",
    "    true_num = int(np.nanargmax(Y_test[i].data))\n",
    "    pred_num = int(np.nanargmax(pred.data))\n",
    "    if true_num == pred_num: accuracy += 1\n",
    "    # print(f\"Sample {i}: target={true_num}, prediction={pred_num}\")\n",
    "\n",
    "print(f\"Accuracy: {accuracy / len(X_test)}\")"
   ]
  }
 ],
 "metadata": {
  "kernelspec": {
   "display_name": "venv",
   "language": "python",
   "name": "python3"
  },
  "language_info": {
   "codemirror_mode": {
    "name": "ipython",
    "version": 3
   },
   "file_extension": ".py",
   "mimetype": "text/x-python",
   "name": "python",
   "nbconvert_exporter": "python",
   "pygments_lexer": "ipython3",
   "version": "3.13.7"
  }
 },
 "nbformat": 4,
 "nbformat_minor": 5
}
